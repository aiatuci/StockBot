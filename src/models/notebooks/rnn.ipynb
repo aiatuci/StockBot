{
 "cells": [
  {
   "cell_type": "markdown",
   "source": [
    "# Simple RNN Model"
   ],
   "metadata": {}
  },
  {
   "cell_type": "code",
   "execution_count": 1,
   "source": [
    "import os\n",
    "import sys\n",
    "\n",
    "import numpy as np\n",
    "import torch\n",
    "\n",
    "# Hack the Python import path to let us import adjacent modules.\n",
    "src_path = os.path.abspath(os.path.join('../../..'))\n",
    "if src_path not in sys.path:\n",
    "    sys.path.append(src_path)\n",
    "\n",
    "from src.models.rnn import SimpleRNN\n",
    "from src.utils.datasets import HSMD"
   ],
   "outputs": [],
   "metadata": {}
  },
  {
   "cell_type": "markdown",
   "source": [
    "## Load the Huge Stock Market Dataset\n",
    "\n",
    "For proof of concept, load only the `Close` column `NFLX` stock. Load the data in 7 day windows."
   ],
   "metadata": {}
  },
  {
   "cell_type": "code",
   "execution_count": 2,
   "source": [
    "dataset = HSMD('../../../data/HSMD', \n",
    "               stocks=['nflx'], \n",
    "               columns=['Close'], \n",
    "               window_size=7)"
   ],
   "outputs": [],
   "metadata": {}
  },
  {
   "cell_type": "markdown",
   "source": [
    "## Split the data into a train and test \n",
    "\n",
    "Use 80% of the data for the training set, and 20% of the data for the test set. Seed the PRNG to get the same split every time, for the purpose of effective cross-validation."
   ],
   "metadata": {}
  },
  {
   "cell_type": "code",
   "execution_count": 3,
   "source": [
    "TRAIN_PCT = 0.8\n",
    "train_size = int(len(dataset) * TRAIN_PCT)\n",
    "test_size = len(dataset) - train_size"
   ],
   "outputs": [],
   "metadata": {}
  },
  {
   "cell_type": "code",
   "execution_count": 4,
   "source": [
    "generator = torch.Generator().manual_seed(1)\n",
    "train_set, test_set = torch.utils.data.random_split(dataset, [train_size, test_size], generator=generator)"
   ],
   "outputs": [],
   "metadata": {}
  },
  {
   "cell_type": "markdown",
   "source": [
    "## Create and display the RNN model\n",
    "\n",
    "Use the `SimpleRNN` model defined in `src/models/rnn/simple.py` with the following parameters:\n",
    "\n",
    "* `input_size=7` : This is the size of the sliding window being fed to the model.\n",
    "* `hidden_size=32`: The (arbitrarily selected) number of units per LSTM cell. A potential hyperparameter to be tuned.\n",
    "* `num_cells=4`: The (arbitrarily selected) number of LSTM cells in the RNN model. A potential hyperparameter to be tuned."
   ],
   "metadata": {}
  },
  {
   "cell_type": "code",
   "execution_count": 5,
   "source": [
    "model = SimpleRNN(7, 32, num_cells=4)\n",
    "print(model)"
   ],
   "outputs": [
    {
     "output_type": "stream",
     "name": "stdout",
     "text": [
      "SimpleRNN(\n",
      "  (lstm): LSTM(7, 32, num_layers=4, batch_first=True)\n",
      "  (fc): Linear(in_features=32, out_features=7, bias=True)\n",
      ")\n"
     ]
    }
   ],
   "metadata": {}
  },
  {
   "cell_type": "code",
   "execution_count": 6,
   "source": [
    "x = next(iter(train_set))\n",
    "x = torch.Tensor(x.reshape(1, -1, 7).astype(np.float32))\n",
    "\n",
    "predictions = model(x)\n",
    "print(predictions.shape)"
   ],
   "outputs": [
    {
     "output_type": "stream",
     "name": "stdout",
     "text": [
      "torch.Size([1, 1, 7])\n"
     ]
    }
   ],
   "metadata": {}
  },
  {
   "cell_type": "code",
   "execution_count": null,
   "source": [],
   "outputs": [],
   "metadata": {}
  }
 ],
 "metadata": {
  "orig_nbformat": 4,
  "language_info": {
   "name": "python",
   "version": "3.9.1",
   "mimetype": "text/x-python",
   "codemirror_mode": {
    "name": "ipython",
    "version": 3
   },
   "pygments_lexer": "ipython3",
   "nbconvert_exporter": "python",
   "file_extension": ".py"
  },
  "kernelspec": {
   "name": "python3",
   "display_name": "Python 3.9.1 64-bit ('stockbotenv': venv)"
  },
  "interpreter": {
   "hash": "d64e87fb6ff8b7ce0ddda79eb12c47157f0cec9bcfbc30dceab0c8496e3382fc"
  }
 },
 "nbformat": 4,
 "nbformat_minor": 2
}