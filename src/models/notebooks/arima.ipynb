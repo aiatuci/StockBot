{
 "cells": [
  {
   "cell_type": "markdown",
   "source": [
    "# ARIMA Model"
   ],
   "metadata": {}
  },
  {
   "cell_type": "code",
   "execution_count": null,
   "source": [
    "import os\n",
    "import sys\n",
    "\n",
    "import matplotlib.pyplot as plt\n",
    "import numpy as np\n",
    "import pandas as pd\n",
    "from statsmodels.tsa.arima.model import ARIMA\n",
    "import torch\n",
    "\n",
    "src_path = os.path.abspath(os.path.join('../../..'))\n",
    "if src_path not in sys.path:\n",
    "    sys.path.append(src_path)\n",
    "\n",
    "from src.models.arima import MultiARIMA\n",
    "from src.utils.datasets import HSMD"
   ],
   "outputs": [],
   "metadata": {}
  },
  {
   "cell_type": "code",
   "execution_count": null,
   "source": [
    "dataset = HSMD('../../../data/HSMD', stocks=['nflx'], columns=['Close'], window_size=1)"
   ],
   "outputs": [],
   "metadata": {}
  },
  {
   "cell_type": "code",
   "execution_count": null,
   "source": [
    "generator = torch.Generator().manual_seed(1)\n",
    "train_size = int(len(dataset) * 0.9)\n",
    "test_size = len(dataset) - train_size\n",
    "train_set, test_set = torch.utils.data.random_split(dataset, [train_size, test_size], generator=generator)"
   ],
   "outputs": [],
   "metadata": {}
  },
  {
   "cell_type": "code",
   "execution_count": null,
   "source": [
    "history = [x.astype(float).flatten() for x in train_set]"
   ],
   "outputs": [],
   "metadata": {}
  },
  {
   "cell_type": "code",
   "execution_count": null,
   "source": [
    "model = ARIMA(history, order=(5, 1, 0))\n",
    "fit = model.fit()\n",
    "print(fit.summary())"
   ],
   "outputs": [],
   "metadata": {}
  },
  {
   "cell_type": "code",
   "execution_count": null,
   "source": [
    "residuals = pd.DataFrame(fit.resid)\n",
    "residuals.plot()\n",
    "plt.show()\n",
    "# density plot of residuals\n",
    "residuals.plot(kind='kde')\n",
    "plt.show()"
   ],
   "outputs": [],
   "metadata": {}
  },
  {
   "cell_type": "code",
   "execution_count": null,
   "source": [
    "predictions = []\n",
    "gt = []\n",
    "for window in test_set:\n",
    "    window = window.astype(float).flatten()\n",
    "    model = ARIMA(history, order=(5, 1, 0))\n",
    "    fit = model.fit()\n",
    "    output = fit.forecast()\n",
    "    predictions.append(output)\n",
    "    gt.append(window)\n",
    "    history.append(window)"
   ],
   "outputs": [],
   "metadata": {}
  },
  {
   "cell_type": "code",
   "execution_count": null,
   "source": [
    "time = np.arange(0, len(gt))\n",
    "plt.plot(time, gt, 'g')\n",
    "plt.plot(time, predictions, 'b')\n",
    "plt.show()"
   ],
   "outputs": [],
   "metadata": {}
  },
  {
   "cell_type": "code",
   "execution_count": null,
   "source": [],
   "outputs": [],
   "metadata": {}
  }
 ],
 "metadata": {
  "orig_nbformat": 4,
  "language_info": {
   "name": "python",
   "version": "3.9.1",
   "mimetype": "text/x-python",
   "codemirror_mode": {
    "name": "ipython",
    "version": 3
   },
   "pygments_lexer": "ipython3",
   "nbconvert_exporter": "python",
   "file_extension": ".py"
  },
  "kernelspec": {
   "name": "python3",
   "display_name": "Python 3.9.1 64-bit ('stockbotenv': venv)"
  },
  "interpreter": {
   "hash": "d64e87fb6ff8b7ce0ddda79eb12c47157f0cec9bcfbc30dceab0c8496e3382fc"
  }
 },
 "nbformat": 4,
 "nbformat_minor": 2
}