{
 "cells": [
  {
   "cell_type": "markdown",
   "source": [
    "# ARIMA Model"
   ],
   "metadata": {}
  },
  {
   "cell_type": "code",
   "execution_count": null,
   "source": [
    "import os\n",
    "import sys\n",
    "\n",
    "import matplotlib.pyplot as plt\n",
    "import numpy as np\n",
    "import pandas as pd\n",
    "from statsmodels.tsa.arima.model import ARIMA\n",
    "import torch\n",
    "\n",
    "src_path = os.path.abspath(os.path.join('../../..'))\n",
    "if src_path not in sys.path:\n",
    "    sys.path.append(src_path)\n",
    "\n",
    "from src.models.arima import MultiARIMA\n",
    "from src.utils.datasets import HSMD"
   ],
   "outputs": [],
   "metadata": {}
  },
  {
   "cell_type": "markdown",
   "source": [
    "## Load the Huge Stock Market Dataset\n",
    "\n",
    "For proof of concept, load only the `Close` column `NFLX` stock. Load the data in 1 day windows (ARIMA consider the series 1 data point at a time)."
   ],
   "metadata": {}
  },
  {
   "cell_type": "code",
   "execution_count": null,
   "source": [
    "dataset = HSMD('../../../data/HSMD', stocks=['nflx'], columns=['Close'], window_size=1)"
   ],
   "outputs": [],
   "metadata": {}
  },
  {
   "cell_type": "markdown",
   "source": [
    "## Split the data into a train and test \n",
    "\n",
    "Use 80% of the data for the training set, and 20% of the data for the test set. Seed the PRNG to get the same split every time, for the purpose of effective cross-validation."
   ],
   "metadata": {}
  },
  {
   "cell_type": "code",
   "execution_count": null,
   "source": [
    "TRAIN_PCT = 0.8\n",
    "train_size = int(len(dataset) * TRAIN_PCT)\n",
    "test_size = len(dataset) - train_size"
   ],
   "outputs": [],
   "metadata": {}
  },
  {
   "cell_type": "code",
   "execution_count": null,
   "source": [
    "generator = torch.Generator().manual_seed(1)\n",
    "train_set, test_set = torch.utils.data.random_split(dataset, [train_size, test_size], generator=generator)"
   ],
   "outputs": [],
   "metadata": {}
  },
  {
   "cell_type": "code",
   "execution_count": null,
   "source": [
    "# Reformat the data before feeding it to ARIMA\n",
    "history = [x.astype(float).flatten() for x in train_set]"
   ],
   "outputs": [],
   "metadata": {}
  },
  {
   "cell_type": "markdown",
   "source": [
    "## Train an ARIMA model and summarize the fit"
   ],
   "metadata": {}
  },
  {
   "cell_type": "code",
   "execution_count": null,
   "source": [
    "model = ARIMA(history, order=(5, 1, 0))\n",
    "fit = model.fit()\n",
    "print(fit.summary())"
   ],
   "outputs": [],
   "metadata": {}
  },
  {
   "cell_type": "markdown",
   "source": [
    "## Plot the residuals of the fit. \n",
    "\n",
    "The residual error for the model varies from the -100 to +150 range.\n",
    "\n",
    "The distribution of the residuals seems to be centered below 0, indicating the model typically underestimates the stock price."
   ],
   "metadata": {}
  },
  {
   "cell_type": "code",
   "execution_count": null,
   "source": [
    "residuals = pd.DataFrame(fit.resid)\n",
    "residuals.plot()\n",
    "plt.show()\n",
    "# density plot of residuals\n",
    "residuals.plot(kind='kde')\n",
    "plt.show()"
   ],
   "outputs": [],
   "metadata": {}
  },
  {
   "cell_type": "markdown",
   "source": [
    "## Evaluate the model on the test set\n",
    "\n",
    "For each data point in the test set, we train the model on the preceeding `history` (including the train set) to calculate a fit. We create a forecast from this fit."
   ],
   "metadata": {}
  },
  {
   "cell_type": "code",
   "execution_count": null,
   "source": [
    "preds = [] # predictions\n",
    "gt = [] # ground truth\n",
    "for window in test_set:\n",
    "    window = window.astype(float).flatten()\n",
    "    model = ARIMA(history, order=(5, 1, 0))\n",
    "    fit = model.fit()\n",
    "    output = fit.forecast()\n",
    "    preds.append(output)\n",
    "    gt.append(window)\n",
    "    history.append(window)"
   ],
   "outputs": [],
   "metadata": {}
  },
  {
   "cell_type": "markdown",
   "source": [
    "## Visualize model predictions"
   ],
   "metadata": {}
  },
  {
   "cell_type": "code",
   "execution_count": null,
   "source": [
    "plt.figure(figsize=(15, 10))\n",
    "time = np.arange(0, len(gt))\n",
    "plt.plot(time, gt, 'g', label='Ground Truths')\n",
    "plt.plot(time, preds, 'b', label='Predictions')\n",
    "plt.xlabel('Time')\n",
    "plt.ylabel('Stock Price')\n",
    "plt.show()"
   ],
   "outputs": [],
   "metadata": {}
  },
  {
   "cell_type": "code",
   "execution_count": null,
   "source": [],
   "outputs": [],
   "metadata": {}
  }
 ],
 "metadata": {
  "orig_nbformat": 4,
  "language_info": {
   "name": "python",
   "version": "3.9.1",
   "mimetype": "text/x-python",
   "codemirror_mode": {
    "name": "ipython",
    "version": 3
   },
   "pygments_lexer": "ipython3",
   "nbconvert_exporter": "python",
   "file_extension": ".py"
  },
  "kernelspec": {
   "name": "python3",
   "display_name": "Python 3.9.1 64-bit ('stockbotenv': venv)"
  },
  "interpreter": {
   "hash": "d64e87fb6ff8b7ce0ddda79eb12c47157f0cec9bcfbc30dceab0c8496e3382fc"
  }
 },
 "nbformat": 4,
 "nbformat_minor": 2
}